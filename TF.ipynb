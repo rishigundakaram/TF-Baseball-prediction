{
 "cells": [
  {
   "cell_type": "markdown",
   "metadata": {},
   "source": [
    "## Tensor Factorization for Baseball performance prediction\n",
    "\n",
    "In this notebook we are going to try to predict the outcome of an \"at-bat\" in a baseball game. In a super simple world, the outcome of an at-bat depends on the batter, the pitcher, and how many outs there are. Of course, there are many more relevant factors, but these are the ones we are going to focus on today. Thus, we have a learning problem: given a batter, pitcher, and how many outs there are, can we predict the number of bases the batter is going to slug for? \n",
    "\n",
    "At first glance, it must seem like stats about the batters and pitchers must be given (i.e. batting average, strikeouts per 9 innings, and more). However, we are going to try to predict these outcomes without using anything except for previous at-bats. There are a couple challenges here. First, we need to simultaneously learn representations for the pitchers and batters. Second, only a few of the total combinations of at-bats are observed (not all pitchers face all batters). Finally, the at-bats which are observed are noisy (an at-bat is inherently probabilistic).\n",
    "\n",
    "Before we move on, let's first some do some data preprocessing. Note that the data here is part of a larger project that I am working on, and due to licensing issues, I cannot provide the dataset :("
   ]
  },
  {
   "cell_type": "code",
   "execution_count": 3,
   "metadata": {},
   "outputs": [],
   "source": [
    "from model.dataset import *\n",
    "\n",
    "db_path = 'baseball.db'\n",
    "database = master_dataset(db_path)"
   ]
  },
  {
   "cell_type": "code",
   "execution_count": 70,
   "metadata": {},
   "outputs": [
    {
     "data": {
      "text/html": [
       "<div>\n",
       "<style scoped>\n",
       "    .dataframe tbody tr th:only-of-type {\n",
       "        vertical-align: middle;\n",
       "    }\n",
       "\n",
       "    .dataframe tbody tr th {\n",
       "        vertical-align: top;\n",
       "    }\n",
       "\n",
       "    .dataframe thead th {\n",
       "        text-align: right;\n",
       "    }\n",
       "</style>\n",
       "<table border=\"1\" class=\"dataframe\">\n",
       "  <thead>\n",
       "    <tr style=\"text-align: right;\">\n",
       "      <th></th>\n",
       "      <th>game_id</th>\n",
       "      <th>pitcher</th>\n",
       "      <th>player_id</th>\n",
       "      <th>outcome</th>\n",
       "      <th>cur_outs</th>\n",
       "      <th>date</th>\n",
       "    </tr>\n",
       "  </thead>\n",
       "  <tbody>\n",
       "    <tr>\n",
       "      <th>0</th>\n",
       "      <td>ANA200104110</td>\n",
       "      <td>ortir002</td>\n",
       "      <td>greer001</td>\n",
       "      <td>flyout</td>\n",
       "      <td>0</td>\n",
       "      <td>2001-04-11</td>\n",
       "    </tr>\n",
       "    <tr>\n",
       "      <th>1</th>\n",
       "      <td>ANA200104110</td>\n",
       "      <td>ortir002</td>\n",
       "      <td>velar001</td>\n",
       "      <td>strikeout</td>\n",
       "      <td>1</td>\n",
       "      <td>2001-04-11</td>\n",
       "    </tr>\n",
       "    <tr>\n",
       "      <th>2</th>\n",
       "      <td>ANA200104110</td>\n",
       "      <td>ortir002</td>\n",
       "      <td>rodra001</td>\n",
       "      <td>strikeout</td>\n",
       "      <td>2</td>\n",
       "      <td>2001-04-11</td>\n",
       "    </tr>\n",
       "    <tr>\n",
       "      <th>3</th>\n",
       "      <td>ANA200104110</td>\n",
       "      <td>glynr001</td>\n",
       "      <td>erstd001</td>\n",
       "      <td>single</td>\n",
       "      <td>0</td>\n",
       "      <td>2001-04-11</td>\n",
       "    </tr>\n",
       "    <tr>\n",
       "      <th>4</th>\n",
       "      <td>ANA200104110</td>\n",
       "      <td>glynr001</td>\n",
       "      <td>joynw001</td>\n",
       "      <td>flyout</td>\n",
       "      <td>0</td>\n",
       "      <td>2001-04-11</td>\n",
       "    </tr>\n",
       "    <tr>\n",
       "      <th>...</th>\n",
       "      <td>...</td>\n",
       "      <td>...</td>\n",
       "      <td>...</td>\n",
       "      <td>...</td>\n",
       "      <td>...</td>\n",
       "      <td>...</td>\n",
       "    </tr>\n",
       "    <tr>\n",
       "      <th>184371</th>\n",
       "      <td>SLN200109300</td>\n",
       "      <td>loisr001</td>\n",
       "      <td>vinaf001</td>\n",
       "      <td>walk</td>\n",
       "      <td>1</td>\n",
       "      <td>2001-09-30</td>\n",
       "    </tr>\n",
       "    <tr>\n",
       "      <th>184372</th>\n",
       "      <td>SLN200109300</td>\n",
       "      <td>loisr001</td>\n",
       "      <td>polap001</td>\n",
       "      <td>groundout</td>\n",
       "      <td>1</td>\n",
       "      <td>2001-09-30</td>\n",
       "    </tr>\n",
       "    <tr>\n",
       "      <th>184373</th>\n",
       "      <td>SLN200109300</td>\n",
       "      <td>klins002</td>\n",
       "      <td>gileb002</td>\n",
       "      <td>groundout</td>\n",
       "      <td>0</td>\n",
       "      <td>2001-09-30</td>\n",
       "    </tr>\n",
       "    <tr>\n",
       "      <th>184374</th>\n",
       "      <td>SLN200109300</td>\n",
       "      <td>timlm001</td>\n",
       "      <td>ramia001</td>\n",
       "      <td>walk</td>\n",
       "      <td>1</td>\n",
       "      <td>2001-09-30</td>\n",
       "    </tr>\n",
       "    <tr>\n",
       "      <th>184375</th>\n",
       "      <td>SLN200109300</td>\n",
       "      <td>timlm001</td>\n",
       "      <td>younk001</td>\n",
       "      <td>groundout</td>\n",
       "      <td>1</td>\n",
       "      <td>2001-09-30</td>\n",
       "    </tr>\n",
       "  </tbody>\n",
       "</table>\n",
       "<p>184376 rows × 6 columns</p>\n",
       "</div>"
      ],
      "text/plain": [
       "             game_id   pitcher player_id    outcome  cur_outs        date\n",
       "0       ANA200104110  ortir002  greer001     flyout         0  2001-04-11\n",
       "1       ANA200104110  ortir002  velar001  strikeout         1  2001-04-11\n",
       "2       ANA200104110  ortir002  rodra001  strikeout         2  2001-04-11\n",
       "3       ANA200104110  glynr001  erstd001     single         0  2001-04-11\n",
       "4       ANA200104110  glynr001  joynw001     flyout         0  2001-04-11\n",
       "...              ...       ...       ...        ...       ...         ...\n",
       "184371  SLN200109300  loisr001  vinaf001       walk         1  2001-09-30\n",
       "184372  SLN200109300  loisr001  polap001  groundout         1  2001-09-30\n",
       "184373  SLN200109300  klins002  gileb002  groundout         0  2001-09-30\n",
       "184374  SLN200109300  timlm001  ramia001       walk         1  2001-09-30\n",
       "184375  SLN200109300  timlm001  younk001  groundout         1  2001-09-30\n",
       "\n",
       "[184376 rows x 6 columns]"
      ]
     },
     "execution_count": 70,
     "metadata": {},
     "output_type": "execute_result"
    }
   ],
   "source": [
    "df = database.get_plays(start_date='2001-04-10', end_date='2001-10-01')\n",
    "df"
   ]
  },
  {
   "cell_type": "code",
   "execution_count": 71,
   "metadata": {},
   "outputs": [],
   "source": [
    "# Processing step\n",
    "df['player_id']\n",
    "# Need to create a tensor [player, pitcher, outs, outcome]\n",
    "# All of the outs are going to be encoded by 0\n",
    "\n",
    "num_up = 0\n",
    "num_ub = 0\n",
    "# Create unique IDs for pitchers and batters\n",
    "up = {}\n",
    "ub = {}\n",
    "for idx, row in df.iterrows(): \n",
    "    if row[1] not in up: \n",
    "        up[row[1]] = num_up\n",
    "        num_up += 1\n",
    "    if row[2] not in ub: \n",
    "        ub[row[2]] = num_ub\n",
    "        num_ub += 1"
   ]
  },
  {
   "cell_type": "code",
   "execution_count": 293,
   "metadata": {},
   "outputs": [],
   "source": [
    "import tensorly as tl\n",
    "import numpy as np\n",
    "from datetime import datetime\n",
    "\n",
    "\n",
    "\n",
    "def outcome_to_num(outcome): \n",
    "    if 'out' in outcome: \n",
    "        return 0\n",
    "    elif outcome == 'single': \n",
    "        return 1\n",
    "    elif outcome == 'double': \n",
    "        return 2\n",
    "    elif outcome == 'triple': \n",
    "        return 3\n",
    "    return 4\n",
    "\n",
    "def get_outcomes(df, start_date, end_date): \n",
    "    start_date = datetime.strptime(start_date, '%Y-%m-%d')\n",
    "    end_date = datetime.strptime(end_date, '%Y-%m-%d')\n",
    "\n",
    "    mask = np.ones((len(up), len(ub), 3))\n",
    "    outcomes = np.zeros((len(up), len(ub), 3))\n",
    "\n",
    "    for idx, row in df.iterrows():\n",
    "        date = datetime.strptime(row[5], '%Y-%m-%d')\n",
    "        if date >= start_date and date < end_date: \n",
    "            pitcher = up[row[1]]\n",
    "            batter = ub[row[2]]\n",
    "            outcome = outcome_to_num(row[3])\n",
    "            num_outs = row[4]\n",
    "            mask[pitcher, batter, num_outs] += 1\n",
    "            outcomes[pitcher, batter, num_outs] += outcome\n",
    "    mask = np.reciprocal(mask.astype(float))\n",
    "    outcomes = outcomes * mask\n",
    "    mask = mask < 1\n",
    "    return mask, outcomes\n",
    "\n",
    "train_mask, train_outcomes = get_outcomes(df, '2001-04-10', '2001-06-25')\n",
    "valid_mask, valid_outcomes = get_outcomes(df, '2001-06-25', '2001-07-25')\n",
    "test_mask, test_outcomes = get_outcomes(df, '2001-07-25', '2001-10-01')\n",
    "\n",
    "train_outcomes_mean = np.mean(train_outcomes)\n",
    "train_outcomes -= train_outcomes_mean\n",
    "valid_outcomes -= train_outcomes_mean\n",
    "test_outcomes -= train_outcomes_mean\n"
   ]
  },
  {
   "cell_type": "markdown",
   "metadata": {},
   "source": [
    "After our preprocessing we have 3 tensors for the training, validation, and testing. We also have 3 seperate masks which we will use later which have 1's where an at-bat takes place, and 0's where no at-bat takes place. Each tensor is 3-way where one dimension is for unique pitchers, one is for unique batters, and the last is for the number of outs currently.\n",
    "\n",
    "Now we are ready to use tensor factorization. We want to represent each batter, pitcher, and out with some latent variables such that the outer product of the latent variables form a low rank approximation for the tensors. For more information on this topic see this great youtube video: https://www.youtube.com/watch?v=L8uT6hgMt00&t=897s. We are going to be using the Parfac decomposition because it is generally accepted that it is the most useful for finding latent variables."
   ]
  },
  {
   "cell_type": "code",
   "execution_count": 291,
   "metadata": {},
   "outputs": [],
   "source": [
    "# Some functions to help us later\n",
    "def MSE(mask, outcomes, pred_outcomes):\n",
    "    num = np.sum(mask)\n",
    "    cur_outcomes = mask * outcomes\n",
    "    cur_pred_outcomes = mask * pred_outcomes\n",
    "    return np.sum(np.square(cur_outcomes - cur_pred_outcomes))/num \n",
    "\n",
    "def MAE(mask, outcomes, pred_outcomes):\n",
    "    num = np.sum(mask)\n",
    "    cur_outcomes = mask * outcomes\n",
    "    cur_pred_outcomes = mask * pred_outcomes\n",
    "    return np.sum(np.abs(cur_outcomes - cur_pred_outcomes))/num "
   ]
  },
  {
   "cell_type": "code",
   "execution_count": 294,
   "metadata": {},
   "outputs": [
    {
     "name": "stdout",
     "output_type": "stream",
     "text": [
      "rank: 1: cur_MSE: 0.6138540335468257, cur_MAE: 0.625934842967713\n",
      "rank: 2: cur_MSE: 0.6382752297874282, cur_MAE: 0.6269974721380241\n",
      "rank: 3: cur_MSE: 0.6512445652244233, cur_MAE: 0.631457031217568\n",
      "rank: 4: cur_MSE: 0.677393101880879, cur_MAE: 0.6369776572451517\n",
      "rank: 5: cur_MSE: 0.6952048674635146, cur_MAE: 0.6405229256989299\n",
      "rank: 6: cur_MSE: 0.7207346266064864, cur_MAE: 0.6489002456185237\n",
      "rank: 7: cur_MSE: 0.7368826843555166, cur_MAE: 0.6546110299173137\n",
      "rank: 8: cur_MSE: 0.740691905674849, cur_MAE: 0.6596578665196526\n",
      "rank: 9: cur_MSE: 0.7708556144807547, cur_MAE: 0.6685598474090035\n",
      "1\n",
      "0.6138540335468257\n"
     ]
    }
   ],
   "source": [
    "from tensorly.decomposition import tucker, parafac, non_negative_parafac\n",
    "from tensorly import tucker_to_tensor, cp_to_tensor\n",
    "\n",
    "ranks = [i for i in range(1, 10)]\n",
    "best_MSE = None\n",
    "best_rank = None\n",
    "for idx, rank in enumerate(ranks): \n",
    "    core, factors = parafac(train_outcomes, init='random', rank=rank, mask=train_mask)\n",
    "    pred_outcomes = cp_to_tensor((core, factors))\n",
    "    cur_MSE = MSE(valid_mask, valid_outcomes, pred_outcomes)\n",
    "    cur_MAE = MAE(valid_mask, valid_outcomes, pred_outcomes)\n",
    "    print(f'rank: {rank}: cur_MSE: {cur_MSE}, cur_MAE: {cur_MAE}')\n",
    "    if not best_MSE or cur_MSE < best_MSE: \n",
    "        best_rank = rank\n",
    "        best_MSE = cur_MSE\n",
    "print(best_rank)\n",
    "print(best_MSE)\n",
    "\n"
   ]
  },
  {
   "cell_type": "markdown",
   "metadata": {},
   "source": [
    "One issue that we need to resolve is the rank of our approximation. To do this, we fit the decomposition on the first half of the MLB season and calculate the MSE on the next month. Thus, we can find the optimal rank for our approximation by choosing the one which generates the lowest MSE."
   ]
  },
  {
   "cell_type": "code",
   "execution_count": 289,
   "metadata": {},
   "outputs": [
    {
     "name": "stdout",
     "output_type": "stream",
     "text": [
      "test_MSE: 0.6575761348492685\n",
      "test_MAE: 0.6239726455466582\n"
     ]
    }
   ],
   "source": [
    "from tensorly.decomposition import parafac\n",
    "from tensorly import cp_to_tensor\n",
    "\n",
    "\n",
    "best_rank = 1\n",
    "(weights, factors) = parafac(train_outcomes, best_rank, init='random', mask=train_mask)\n",
    "pred_outcomes = cp_to_tensor((weights, factors))\n",
    "\n",
    "test_MSE = MSE(test_mask, test_outcomes, pred_outcomes)\n",
    "test_MAE = MAE(test_mask, test_outcomes, pred_outcomes)\n",
    "print(f'test_MSE: {test_MSE}')\n",
    "print(f'test_MAE: {test_MAE}')"
   ]
  },
  {
   "cell_type": "code",
   "execution_count": 311,
   "metadata": {},
   "outputs": [
    {
     "name": "stdout",
     "output_type": "stream",
     "text": [
      "mean control error: 0.8805045765992431\n",
      "mean batter control error: 0.8814048749188713\n",
      "mean pitcher control error: 0.9033417765502534\n"
     ]
    }
   ],
   "source": [
    "# three controls\n",
    "# predict just the average over the non-zero values with respect to number of outs\n",
    "avg_control = np.expand_dims(np.mean(train_outcomes, axis=2), axis=2)\n",
    "avg_control = np.repeat(avg_control, repeats=3, axis=2)\n",
    "avg_err = MSE(test_mask, test_outcomes, avg_control)\n",
    "print(f'mean control error: {avg_err}')\n",
    "# predict a batters average with respect to number of outs\n",
    "b_avg_control = np.expand_dims(np.mean(train_outcomes, axis=(0, 2)), axis=(0, 2))\n",
    "b_avg_control = np.repeat(b_avg_control, repeats=3, axis=2)\n",
    "b_avg_control = np.repeat(b_avg_control, repeats=len(up), axis=0)\n",
    "b_avg_err = MSE(test_mask, test_outcomes, b_avg_control)\n",
    "print(f'mean batter control error: {b_avg_err}')\n",
    "# predict a pitchers average with respect to number of outs\n",
    "p_avg_control = np.expand_dims(np.mean(train_outcomes, axis=(1, 2)), axis=(1, 2))\n",
    "p_avg_control = np.repeat(p_avg_control, repeats=3, axis=2)\n",
    "p_avg_control = np.repeat(p_avg_control, repeats=len(ub), axis=1)\n",
    "p_avg_err = MSE(test_mask, test_outcomes, p_avg_control)\n",
    "print(f'mean pitcher control error: {p_avg_err}')\n"
   ]
  },
  {
   "cell_type": "markdown",
   "metadata": {},
   "source": [
    "Indeed our approach is more informative than the controls!"
   ]
  },
  {
   "cell_type": "code",
   "execution_count": 286,
   "metadata": {},
   "outputs": [],
   "source": [
    "mask_outcomes = test_mask * test_outcomes\n",
    "mask_pred_outcomes = test_mask * pred_outcomes\n",
    "diff = mask_outcomes - mask_pred_outcomes\n",
    "diff = diff.flatten()\n",
    "test_mask_flatten = test_mask.flatten()\n",
    "diff = diff[test_mask_flatten != 0]"
   ]
  },
  {
   "cell_type": "code",
   "execution_count": 314,
   "metadata": {},
   "outputs": [
    {
     "data": {
      "image/png": "[encoded data removed]",
      "text/plain": [
       "<Figure size 432x288 with 1 Axes>"
      ]
     },
     "metadata": {
      "needs_background": "light"
     },
     "output_type": "display_data"
    }
   ],
   "source": [
    "import matplotlib.pyplot as plt\n",
    "\n",
    "plt.violinplot(diff)\n",
    "plt.title('difference between true and predicted bases slugged')\n",
    "plt.show()"
   ]
  },
  {
   "cell_type": "markdown",
   "metadata": {},
   "source": [
    "# Conclusion\n",
    "- Although the errors are exactly unimodal, most of the mass lies in between the 1 and -1 which indicates that the tensor decomposition is reasonable. This is supported by our small MSE and MAE.\n",
    "- Indeed we can say that our MSE and MAE are small because baseball is extremely hard to predict. If we are on average only predicting about half of a base off of the true outcome, when there are 4 possible number of bases we can hit for, our model definitely contains valuable information. \n",
    "- This is further supported by the fact that we beat the different controls significantly.\n",
    "- Overall this approach is promising, yet it is likely limited due to the noisy nature of baseball. There are more tensor factorization methods that are robust to noise that I will look into in the future (and maybe have to implement!)"
   ]
  }
 ],
 "metadata": {
  "kernelspec": {
   "display_name": "Python 3.10.4 ('baseball')",
   "language": "python",
   "name": "python3"
  },
  "language_info": {
   "codemirror_mode": {
    "name": "ipython",
    "version": 3
   },
   "file_extension": ".py",
   "mimetype": "text/x-python",
   "name": "python",
   "nbconvert_exporter": "python",
   "pygments_lexer": "ipython3",
   "version": "3.10.4"
  },
  "orig_nbformat": 4,
  "vscode": {
   "interpreter": {
    "hash": "2ec1d9fe589f7b7ee699702ec02ee7c2a60600eb1473c50d062505583a258c02"
   }
  }
 },
 "nbformat": 4,
 "nbformat_minor": 2
}
